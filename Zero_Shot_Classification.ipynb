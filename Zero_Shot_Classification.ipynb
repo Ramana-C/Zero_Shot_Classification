{
 "cells": [
  {
   "cell_type": "code",
   "execution_count": null,
   "metadata": {},
   "outputs": [],
   "source": [
    "from transformers import pipeline\n",
    "\n",
    "# Load the zero-shot classification pipeline with a pre-trained model\n",
    "#facebook/bart-large-mnli is a variant of the BART model fine-tuned on the Multi-Genre Natural Language Inference (MNLI) dataset\n",
    "classifier = pipeline(\"zero-shot-classification\", model=\"facebook/bart-large-mnli\")\n",
    "\n",
    "# Input text\n",
    "sequence_to_classify = \"I'm going to bake a cake\"\n",
    "# Candidate labels\n",
    "candidate_labels = [\"shopping\", \"cooking\", \"driving\",\"travel\"]\n",
    "\n",
    "# Perform zero-shot classification\n",
    "result = classifier(sequence_to_classify, candidate_labels) #cosine similarity\n",
    "\n",
    "# Display the result\n",
    "print(result)"
   ]
  }
 ],
 "metadata": {
  "language_info": {
   "name": "python"
  }
 },
 "nbformat": 4,
 "nbformat_minor": 2
}
